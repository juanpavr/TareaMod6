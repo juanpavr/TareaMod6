{
 "cells": [
  {
   "cell_type": "markdown",
   "id": "3e51e4da-8a09-4435-93b4-90c672f441af",
   "metadata": {},
   "source": [
    "# Data Science Tools and Ecosystem"
   ]
  },
  {
   "cell_type": "markdown",
   "id": "93799b8a-d9ac-4a6d-a11a-391bfde4a2b4",
   "metadata": {},
   "source": [
    "In this notebook, Data Science Tools and Ecosystem are summarized."
   ]
  },
  {
   "cell_type": "markdown",
   "id": "fb969dee-2e86-4e2e-91da-b90de31d97a5",
   "metadata": {},
   "source": [
    "**Objectives:**\n",
    "- unordered list\n",
    "- ordered list\n",
    "- List popular languages for Data Science\n",
    "- List popular libraries used by Data Science\n",
    "- popular Data Science Tools"
   ]
  },
  {
   "cell_type": "markdown",
   "id": "7693ce91-651a-4cc1-8aed-4f4a18d55fbd",
   "metadata": {},
   "source": [
    "Some of the popular languages that Data Scientists use are:\n",
    "1. Python\n",
    "2. R\n",
    "3. SQL\n",
    "4. Java\n",
    "5. Julia"
   ]
  },
  {
   "cell_type": "markdown",
   "id": "428980a4-d870-46fe-9f6c-b4014b4df135",
   "metadata": {},
   "source": [
    "Some of the commonly used libraries used by Data Scientists include:\n",
    "1. NumPy\n",
    "2. Pandas\n",
    "3. Scikit-Learn\n",
    "4. Plotly"
   ]
  },
  {
   "cell_type": "markdown",
   "id": "0537b723-4f1b-46ea-b79c-c76b865b25cb",
   "metadata": {},
   "source": [
    "|Data Science Tools|\n",
    "|------|\n",
    "|Apache Hadoop|\n",
    "|R|\n",
    "|Anaconda|"
   ]
  },
  {
   "cell_type": "markdown",
   "id": "210d3b52-44e1-4f72-bd73-ad828cb31de1",
   "metadata": {},
   "source": [
    "### Below are a few examples of evaluating arithmetic expressions in Python"
   ]
  },
  {
   "cell_type": "code",
   "execution_count": 1,
   "id": "cf7f72d6-f331-4bb7-b3dd-53aefb3d852b",
   "metadata": {},
   "outputs": [
    {
     "data": {
      "text/plain": [
       "17"
      ]
     },
     "execution_count": 1,
     "metadata": {},
     "output_type": "execute_result"
    }
   ],
   "source": [
    "## This a simple arithmetic expression to mutiply then add integers\n",
    "(3*4)+5"
   ]
  },
  {
   "cell_type": "code",
   "execution_count": 11,
   "id": "c95cecda-2148-4caf-9b0e-095ef58c488d",
   "metadata": {},
   "outputs": [
    {
     "name": "stdout",
     "output_type": "stream",
     "text": [
      "600 minutos son 10.0  horas\n"
     ]
    }
   ],
   "source": [
    "## This will convert 200 minutes to hours by diving by 60\n",
    "min = 600\n",
    "hor = min / 60\n",
    "print(min, \"minutos son\", hor, \" horas\")"
   ]
  },
  {
   "cell_type": "markdown",
   "id": "8b302a7c-25a1-4766-bd1c-dcf048f7424b",
   "metadata": {},
   "source": [
    "## Author\n",
    "Juan Pablo Villegas Ruiz"
   ]
  }
 ],
 "metadata": {
  "kernelspec": {
   "display_name": "Python 3 (ipykernel)",
   "language": "python",
   "name": "python3"
  },
  "language_info": {
   "codemirror_mode": {
    "name": "ipython",
    "version": 3
   },
   "file_extension": ".py",
   "mimetype": "text/x-python",
   "name": "python",
   "nbconvert_exporter": "python",
   "pygments_lexer": "ipython3",
   "version": "3.11.9"
  }
 },
 "nbformat": 4,
 "nbformat_minor": 5
}
